{
  "nbformat": 4,
  "nbformat_minor": 0,
  "metadata": {
    "colab": {
      "name": "devoir3ByNJ.ipynb",
      "provenance": [],
      "collapsed_sections": [],
      "authorship_tag": "ABX9TyM/ds1PqN9Sknbsmwnu/iNy",
      "include_colab_link": true
    },
    "kernelspec": {
      "name": "python3",
      "display_name": "Python 3"
    }
  },
  "cells": [
    {
      "cell_type": "markdown",
      "metadata": {
        "id": "view-in-github",
        "colab_type": "text"
      },
      "source": [
        "<a href=\"https://colab.research.google.com/github/NouhailaJeddi/Semestre5_ML/blob/main/devoir3ByNJ.ipynb\" target=\"_parent\"><img src=\"https://colab.research.google.com/assets/colab-badge.svg\" alt=\"Open In Colab\"/></a>"
      ]
    },
    {
      "cell_type": "markdown",
      "metadata": {
        "id": "5RHJ2U3q_ctc"
      },
      "source": [
        "### MLNN from scratch: Devoir 3 By Nouhaila JEDDI"
      ]
    },
    {
      "cell_type": "code",
      "metadata": {
        "id": "j_FEr-D3_Vhe"
      },
      "source": [
        "import numpy as np\n",
        "import matplotlib.pyplot as plt\n",
        "import mlxtend\n",
        "from mlxtend.plotting import plot_decision_regions"
      ],
      "execution_count": null,
      "outputs": []
    },
    {
      "cell_type": "code",
      "metadata": {
        "id": "rOBDeGAf_muq"
      },
      "source": [
        "#la fonction sigmoid et sa derivee\n",
        "\n",
        "def sigmoid(x):\n",
        "    return 1/(1+np.exp(-x))\n",
        "\n",
        "def sigmoid_derivative(x):\n",
        "    return x * (1 - x)\n",
        "\n",
        "sigmoid_fnc = [sigmoid,sigmoid_derivative]\n",
        "\n",
        "#la fonction ReLU et sa derivee\n",
        "\n",
        "def ReLU(x):\n",
        "    return x * (x > 0) \n",
        "\n",
        "def ReLU_derivative(x):\n",
        "    return 1. * (x > 0)\n",
        "\n",
        "relu_fnc = [ReLU, ReLU_derivative]"
      ],
      "execution_count": null,
      "outputs": []
    },
    {
      "cell_type": "code",
      "metadata": {
        "id": "JmKrF8oK_o5W"
      },
      "source": [
        "class MultiLayerNN:\n",
        "\n",
        "    #constructeur\n",
        "    def __init__(self,input,hiden,output):\n",
        "        np.random.seed(0) #définit la valeur de départ aléatoire à 0\n",
        "        self.inputHiden_weights=np.random.rand(input,hiden) # init de weights couche caché\n",
        "        self.outputHiden_weights=np.random.rand(hiden,output)# init de weights couche sourtie\n",
        "        self.hiden_bias = np.random.rand(1,hiden) # init de bais couche caché\n",
        "        self.output_bias = np.random.rand(1,output) # init de bais couche sortie\n",
        "        self.learning_rate=0.01\n",
        "          \n",
        "\n",
        "    #la methode fit\n",
        "    def fit(self, X, y, nb_iter=200, learning_rate=0.01,activation_function= sigmoid_fnc):\n",
        "        self.activation_function=activation_function[0]\n",
        "        self.activation_function_derivative=activation_function[1]\n",
        "        yy = y\n",
        "        y = y.reshape(-1,1)\n",
        "        m = (nb_iter/10)\n",
        "          \n",
        "        for i in range(nb_iter):\n",
        "            #hidden layer sum\n",
        "            hidden_layer_sum = np.dot(X, self.inputHiden_weights) + self.hiden_bias\n",
        "            #activation function\n",
        "            hidden_layer_out = self.activation_function(hidden_layer_sum)\n",
        "            \n",
        "            #output layer\n",
        "            output_layer_sum = np.dot(hidden_layer_out, self.outputHiden_weights) + self.output_bias\n",
        "            #predicted value\n",
        "            y_predicted = self.activation_function(output_layer_sum)\n",
        "            \n",
        "            #Backward\n",
        "            dloss_dbias_out = (y_predicted - y) * self.activation_function_derivative(y_predicted)\n",
        "            dloss_dw_out = hidden_layer_out.T.dot(dloss_dbias_out)\n",
        "            \n",
        "            dloss_dbias_h = (dloss_dbias_out).dot(self.outputHiden_weights.T) * self.activation_function_derivative(hidden_layer_out)\n",
        "            dloss_dw_h = X.T.dot(dloss_dbias_h)\n",
        "\n",
        "            #editor\n",
        "            self.inputHiden_weights -= dloss_dw_h * learning_rate\n",
        "            self.hiden_bias -=np.sum(dloss_dbias_h,axis = 0, keepdims = True) * learning_rate\n",
        "            self.outputHiden_weights-= dloss_dw_out * learning_rate\n",
        "            self.output_bias-= np.sum(dloss_dbias_out, axis = 0, keepdims = True) * learning_rate\n",
        "            if (i % m == 0) :\n",
        "                print(\" Iteration ({}) -> Loss : {:.4f} || Accuracy : {:.4f} \".format(i, np.mean((y_predicted - yy)**2), (yy == self.predict(X)).mean()))\n",
        "\n",
        "\n",
        "    #Une méthode de prédiction\n",
        "    def predict(self, X):    \n",
        "        #hiden layer\n",
        "        inputHiden_sum = np.dot(X, self.inputHiden_weights) + self.hiden_bias\n",
        "        output_hiden = self.activation_function(inputHiden_sum)\n",
        "                \n",
        "        #output layer\n",
        "        output_sum = np.dot(output_hiden,self.outputHiden_weights) + self.output_bias\n",
        "                \n",
        "        #predicted value\n",
        "        y_predicted = self.activation_function(output_sum)\n",
        "                \n",
        "        return np.round(y_predicted).reshape(1,-1)[0]"
      ],
      "execution_count": null,
      "outputs": []
    },
    {
      "cell_type": "code",
      "metadata": {
        "colab": {
          "base_uri": "https://localhost:8080/"
        },
        "id": "BJ-z7O18APC4",
        "outputId": "f598d3e7-0b9c-42af-e807-ed719466a769"
      },
      "source": [
        "rng = np.random.RandomState(0)\n",
        "X   = rng.randn(300, 2)\n",
        "y   = np.array(np.logical_xor(X[:, 0] > 0, X[:, 1] > 0),dtype=int)\n",
        "X[:100]\n"
      ],
      "execution_count": null,
      "outputs": [
        {
          "output_type": "execute_result",
          "data": {
            "text/plain": [
              "array([[ 1.76405235,  0.40015721],\n",
              "       [ 0.97873798,  2.2408932 ],\n",
              "       [ 1.86755799, -0.97727788],\n",
              "       [ 0.95008842, -0.15135721],\n",
              "       [-0.10321885,  0.4105985 ],\n",
              "       [ 0.14404357,  1.45427351],\n",
              "       [ 0.76103773,  0.12167502],\n",
              "       [ 0.44386323,  0.33367433],\n",
              "       [ 1.49407907, -0.20515826],\n",
              "       [ 0.3130677 , -0.85409574],\n",
              "       [-2.55298982,  0.6536186 ],\n",
              "       [ 0.8644362 , -0.74216502],\n",
              "       [ 2.26975462, -1.45436567],\n",
              "       [ 0.04575852, -0.18718385],\n",
              "       [ 1.53277921,  1.46935877],\n",
              "       [ 0.15494743,  0.37816252],\n",
              "       [-0.88778575, -1.98079647],\n",
              "       [-0.34791215,  0.15634897],\n",
              "       [ 1.23029068,  1.20237985],\n",
              "       [-0.38732682, -0.30230275],\n",
              "       [-1.04855297, -1.42001794],\n",
              "       [-1.70627019,  1.9507754 ],\n",
              "       [-0.50965218, -0.4380743 ],\n",
              "       [-1.25279536,  0.77749036],\n",
              "       [-1.61389785, -0.21274028],\n",
              "       [-0.89546656,  0.3869025 ],\n",
              "       [-0.51080514, -1.18063218],\n",
              "       [-0.02818223,  0.42833187],\n",
              "       [ 0.06651722,  0.3024719 ],\n",
              "       [-0.63432209, -0.36274117],\n",
              "       [-0.67246045, -0.35955316],\n",
              "       [-0.81314628, -1.7262826 ],\n",
              "       [ 0.17742614, -0.40178094],\n",
              "       [-1.63019835,  0.46278226],\n",
              "       [-0.90729836,  0.0519454 ],\n",
              "       [ 0.72909056,  0.12898291],\n",
              "       [ 1.13940068, -1.23482582],\n",
              "       [ 0.40234164, -0.68481009],\n",
              "       [-0.87079715, -0.57884966],\n",
              "       [-0.31155253,  0.05616534],\n",
              "       [-1.16514984,  0.90082649],\n",
              "       [ 0.46566244, -1.53624369],\n",
              "       [ 1.48825219,  1.89588918],\n",
              "       [ 1.17877957, -0.17992484],\n",
              "       [-1.07075262,  1.05445173],\n",
              "       [-0.40317695,  1.22244507],\n",
              "       [ 0.20827498,  0.97663904],\n",
              "       [ 0.3563664 ,  0.70657317],\n",
              "       [ 0.01050002,  1.78587049],\n",
              "       [ 0.12691209,  0.40198936],\n",
              "       [ 1.8831507 , -1.34775906],\n",
              "       [-1.270485  ,  0.96939671],\n",
              "       [-1.17312341,  1.94362119],\n",
              "       [-0.41361898, -0.74745481],\n",
              "       [ 1.92294203,  1.48051479],\n",
              "       [ 1.86755896,  0.90604466],\n",
              "       [-0.86122569,  1.91006495],\n",
              "       [-0.26800337,  0.8024564 ],\n",
              "       [ 0.94725197, -0.15501009],\n",
              "       [ 0.61407937,  0.92220667],\n",
              "       [ 0.37642553, -1.09940079],\n",
              "       [ 0.29823817,  1.3263859 ],\n",
              "       [-0.69456786, -0.14963454],\n",
              "       [-0.43515355,  1.84926373],\n",
              "       [ 0.67229476,  0.40746184],\n",
              "       [-0.76991607,  0.53924919],\n",
              "       [-0.67433266,  0.03183056],\n",
              "       [-0.63584608,  0.67643329],\n",
              "       [ 0.57659082, -0.20829876],\n",
              "       [ 0.39600671, -1.09306151],\n",
              "       [-1.49125759,  0.4393917 ],\n",
              "       [ 0.1666735 ,  0.63503144],\n",
              "       [ 2.38314477,  0.94447949],\n",
              "       [-0.91282223,  1.11701629],\n",
              "       [-1.31590741, -0.4615846 ],\n",
              "       [-0.06824161,  1.71334272],\n",
              "       [-0.74475482, -0.82643854],\n",
              "       [-0.09845252, -0.66347829],\n",
              "       [ 1.12663592, -1.07993151],\n",
              "       [-1.14746865, -0.43782004],\n",
              "       [-0.49803245,  1.92953205],\n",
              "       [ 0.94942081,  0.08755124],\n",
              "       [-1.22543552,  0.84436298],\n",
              "       [-1.00021535, -1.5447711 ],\n",
              "       [ 1.18802979,  0.31694261],\n",
              "       [ 0.92085882,  0.31872765],\n",
              "       [ 0.85683061, -0.65102559],\n",
              "       [-1.03424284,  0.68159452],\n",
              "       [-0.80340966, -0.68954978],\n",
              "       [-0.4555325 ,  0.01747916],\n",
              "       [-0.35399391, -1.37495129],\n",
              "       [-0.6436184 , -2.22340315],\n",
              "       [ 0.62523145, -1.60205766],\n",
              "       [-1.10438334,  0.05216508],\n",
              "       [-0.739563  ,  1.5430146 ],\n",
              "       [-1.29285691,  0.26705087],\n",
              "       [-0.03928282, -1.1680935 ],\n",
              "       [ 0.52327666, -0.17154633],\n",
              "       [ 0.77179055,  0.82350415],\n",
              "       [ 2.16323595,  1.33652795]])"
            ]
          },
          "metadata": {
            "tags": []
          },
          "execution_count": 23
        }
      ]
    },
    {
      "cell_type": "code",
      "metadata": {
        "colab": {
          "base_uri": "https://localhost:8080/"
        },
        "id": "WQuGsmPxAjPg",
        "outputId": "9ac8968c-5760-4a7e-ab03-684819b00100"
      },
      "source": [
        "y[:100]"
      ],
      "execution_count": null,
      "outputs": [
        {
          "output_type": "execute_result",
          "data": {
            "text/plain": [
              "array([0, 0, 1, 1, 1, 0, 0, 0, 1, 1, 1, 1, 1, 1, 0, 0, 0, 1, 0, 0, 0, 1,\n",
              "       0, 1, 0, 1, 0, 1, 0, 0, 0, 0, 1, 1, 1, 0, 1, 1, 0, 1, 1, 1, 0, 1,\n",
              "       1, 1, 0, 0, 0, 0, 1, 1, 1, 0, 0, 0, 1, 1, 1, 0, 1, 0, 0, 1, 0, 1,\n",
              "       1, 1, 1, 1, 1, 0, 0, 1, 0, 1, 0, 0, 1, 0, 1, 0, 1, 0, 0, 0, 1, 1,\n",
              "       0, 1, 0, 0, 1, 1, 1, 1, 0, 1, 0, 0])"
            ]
          },
          "metadata": {
            "tags": []
          },
          "execution_count": 24
        }
      ]
    },
    {
      "cell_type": "markdown",
      "metadata": {
        "id": "kjN0weftBkeh"
      },
      "source": [
        "### Modèle Sigmoid :"
      ]
    },
    {
      "cell_type": "code",
      "metadata": {
        "colab": {
          "base_uri": "https://localhost:8080/",
          "height": 723
        },
        "id": "vWB0qjYYBrRU",
        "outputId": "3f05c23a-b976-4eec-a264-7c17136a57ab"
      },
      "source": [
        "model = MultiLayerNN(2,6,1)\n",
        "model.fit(X, y, nb_iter=10000, learning_rate=0.01, activation_function=sigmoid_fnc)\n",
        "fig = plt.figure(figsize=(10,8))\n",
        "fig = plot_decision_regions(X=X, y=y, clf=model, legend=2)\n",
        "plt.title(\"apprentissage SIGMOID\")\n",
        "plt.show()"
      ],
      "execution_count": null,
      "outputs": [
        {
          "output_type": "stream",
          "text": [
            " Iteration (0) -> Loss : 0.3897 || Accuracy : 0.4733 \n",
            " Iteration (1000) -> Loss : 0.3668 || Accuracy : 0.9367 \n",
            " Iteration (2000) -> Loss : 0.4017 || Accuracy : 0.9767 \n",
            " Iteration (3000) -> Loss : 0.4192 || Accuracy : 0.9833 \n",
            " Iteration (4000) -> Loss : 0.4283 || Accuracy : 0.9833 \n",
            " Iteration (5000) -> Loss : 0.4341 || Accuracy : 0.9867 \n",
            " Iteration (6000) -> Loss : 0.4384 || Accuracy : 0.9867 \n",
            " Iteration (7000) -> Loss : 0.4419 || Accuracy : 0.9867 \n",
            " Iteration (8000) -> Loss : 0.4449 || Accuracy : 0.9900 \n",
            " Iteration (9000) -> Loss : 0.4475 || Accuracy : 0.9900 \n"
          ],
          "name": "stdout"
        },
        {
          "output_type": "stream",
          "text": [
            "/usr/local/lib/python3.6/dist-packages/mlxtend/plotting/decision_regions.py:244: MatplotlibDeprecationWarning: Passing unsupported keyword arguments to axis() will raise a TypeError in 3.3.\n",
            "  ax.axis(xmin=xx.min(), xmax=xx.max(), y_min=yy.min(), y_max=yy.max())\n"
          ],
          "name": "stderr"
        },
        {
          "output_type": "display_data",
          "data": {
            "image/png": "[encoded data removed]",
            "text/plain": [
              "<Figure size 720x576 with 1 Axes>"
            ]
          },
          "metadata": {
            "tags": [],
            "needs_background": "light"
          }
        }
      ]
    },
    {
      "cell_type": "markdown",
      "metadata": {
        "id": "RMPM5q_XCU3J"
      },
      "source": [
        "### Modèle avec ReLU"
      ]
    },
    {
      "cell_type": "code",
      "metadata": {
        "colab": {
          "base_uri": "https://localhost:8080/",
          "height": 723
        },
        "id": "8t8NLd0kCaAJ",
        "outputId": "65fdd9a9-713e-4b28-ac2b-51fed207aced"
      },
      "source": [
        "model = MultiLayerNN(2,6,1)\n",
        "model.fit(X, y, nb_iter=100000, learning_rate=0.0001, activation_function=relu_fnc)\n",
        "fig = plt.figure(figsize=(10,8))\n",
        "fig = plot_decision_regions(X=X, y=y, clf=model, legend=2)\n",
        "plt.title(\"apprentissage ReLU\")\n",
        "plt.show()"
      ],
      "execution_count": null,
      "outputs": [
        {
          "output_type": "stream",
          "text": [
            " Iteration (0) -> Loss : 7.1883 || Accuracy : 0.3667 \n",
            " Iteration (10000) -> Loss : 0.4110 || Accuracy : 0.9467 \n",
            " Iteration (20000) -> Loss : 0.4155 || Accuracy : 0.9600 \n",
            " Iteration (30000) -> Loss : 0.4301 || Accuracy : 0.9600 \n",
            " Iteration (40000) -> Loss : 0.4396 || Accuracy : 0.9633 \n",
            " Iteration (50000) -> Loss : 0.4447 || Accuracy : 0.9633 \n",
            " Iteration (60000) -> Loss : 0.4491 || Accuracy : 0.9633 \n",
            " Iteration (70000) -> Loss : 0.4524 || Accuracy : 0.9633 \n",
            " Iteration (80000) -> Loss : 0.4549 || Accuracy : 0.9667 \n",
            " Iteration (90000) -> Loss : 0.4568 || Accuracy : 0.9667 \n"
          ],
          "name": "stdout"
        },
        {
          "output_type": "stream",
          "text": [
            "/usr/local/lib/python3.6/dist-packages/mlxtend/plotting/decision_regions.py:244: MatplotlibDeprecationWarning: Passing unsupported keyword arguments to axis() will raise a TypeError in 3.3.\n",
            "  ax.axis(xmin=xx.min(), xmax=xx.max(), y_min=yy.min(), y_max=yy.max())\n"
          ],
          "name": "stderr"
        },
        {
          "output_type": "display_data",
          "data": {
            "image/png": "[encoded data removed]",
            "text/plain": [
              "<Figure size 720x576 with 1 Axes>"
            ]
          },
          "metadata": {
            "tags": [],
            "needs_background": "light"
          }
        }
      ]
    },
    {
      "cell_type": "code",
      "metadata": {
        "id": "rbYJl40BCkO8"
      },
      "source": [
        ""
      ],
      "execution_count": null,
      "outputs": []
    }
  ]
}